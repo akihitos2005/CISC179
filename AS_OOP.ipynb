{
  "nbformat": 4,
  "nbformat_minor": 0,
  "metadata": {
    "colab": {
      "provenance": [],
      "toc_visible": true,
      "include_colab_link": true
    },
    "kernelspec": {
      "name": "python3",
      "display_name": "Python 3"
    },
    "language_info": {
      "name": "python"
    }
  },
  "cells": [
    {
      "cell_type": "markdown",
      "metadata": {
        "id": "view-in-github",
        "colab_type": "text"
      },
      "source": [
        "<a href=\"https://colab.research.google.com/github/akihitos2005/CISC179/blob/main/AS_OOP.ipynb\" target=\"_parent\"><img src=\"https://colab.research.google.com/assets/colab-badge.svg\" alt=\"Open In Colab\"/></a>"
      ]
    },
    {
      "cell_type": "markdown",
      "source": [
        "# OOP in Python\n",
        "\n",
        "\n",
        "## Objective\n",
        "- Understand the foundations of OOP\n",
        "- Differentiate functional vs OOP\n",
        "- Properties and methods in OOP\n",
        "\n",
        "## Prerequisite\n",
        "\n",
        "- Functions\n",
        "- Exceptions\n",
        "\n",
        "## What do you need to complete this exercise?\n",
        "\n",
        "You can perform this exercise in any Python IDE, including JupyterLab or Google Colab.\n"
      ],
      "metadata": {
        "id": "2ITy4ycVFXBq"
      }
    },
    {
      "cell_type": "markdown",
      "source": [
        "# 1. Extending Stack class behavior\n",
        "\n",
        "I've showed you recently how to extend Stack possibilities by defining a new class (i.e., a subclass) which retains all inherited traits and adds some new ones.\n",
        "\n",
        "Your task is to extend the Stack class behavior in such a way so that the class is able to count all the elements that are pushed and popped (we assume that counting pops is enough). Use the Stack class I've provided in the code below.\n",
        "\n",
        "Follow the hints:\n",
        "\n",
        "- introduce a property designed to count pop operations and name it in a way which guarantees hiding it;\n",
        "- initialize it to zero inside the constructor;\n",
        "- provide a method which returns the value currently assigned to the counter (name it get_counter()).\n",
        "Complete the code in the editor. Run it to check whether your code outputs 100."
      ],
      "metadata": {
        "id": "uQxH0KO0tsDc"
      }
    },
    {
      "cell_type": "code",
      "source": [
        "class Stack:\n",
        "    def __init__(self):\n",
        "        self.__stk = []\n",
        "        self.pop_counter = 0\n",
        "\n",
        "    def push(self, val):\n",
        "        self.__stk.append(val)\n",
        "\n",
        "    def pop(self):\n",
        "        self.pop_counter += 1\n",
        "        x = self.__stk[-1]\n",
        "        del self.__stk[-1]\n",
        "        return x\n",
        "\n",
        "\n",
        "class CountingStack(Stack):\n",
        "    def __init__(self):\n",
        "        Stack.__init__(self)\n",
        "        self.counter=0\n",
        "\n",
        "    def get_counter(self):\n",
        "        return self.counter\n",
        "\n",
        "    def push(self, val):\n",
        "        self.counter+=1\n",
        "        Stack.push(self, val)\n",
        "\n",
        "    def pop(self):\n",
        "        self.counter-=1\n",
        "        return Stack.pop(self)\n",
        "\n",
        "\n",
        "stk = CountingStack()\n",
        "for i in range(100):\n",
        "    stk.push(i)\n",
        "for i in range(100):\n",
        "    print(stk.pop())\n",
        "print(stk.pop_counter)"
      ],
      "metadata": {
        "id": "rRTflD1C9mjt",
        "colab": {
          "base_uri": "https://localhost:8080/"
        },
        "outputId": "6aaa0730-f602-41cc-ae88-5d19071f1fa2"
      },
      "execution_count": 15,
      "outputs": [
        {
          "output_type": "stream",
          "name": "stdout",
          "text": [
            "99\n",
            "98\n",
            "97\n",
            "96\n",
            "95\n",
            "94\n",
            "93\n",
            "92\n",
            "91\n",
            "90\n",
            "89\n",
            "88\n",
            "87\n",
            "86\n",
            "85\n",
            "84\n",
            "83\n",
            "82\n",
            "81\n",
            "80\n",
            "79\n",
            "78\n",
            "77\n",
            "76\n",
            "75\n",
            "74\n",
            "73\n",
            "72\n",
            "71\n",
            "70\n",
            "69\n",
            "68\n",
            "67\n",
            "66\n",
            "65\n",
            "64\n",
            "63\n",
            "62\n",
            "61\n",
            "60\n",
            "59\n",
            "58\n",
            "57\n",
            "56\n",
            "55\n",
            "54\n",
            "53\n",
            "52\n",
            "51\n",
            "50\n",
            "49\n",
            "48\n",
            "47\n",
            "46\n",
            "45\n",
            "44\n",
            "43\n",
            "42\n",
            "41\n",
            "40\n",
            "39\n",
            "38\n",
            "37\n",
            "36\n",
            "35\n",
            "34\n",
            "33\n",
            "32\n",
            "31\n",
            "30\n",
            "29\n",
            "28\n",
            "27\n",
            "26\n",
            "25\n",
            "24\n",
            "23\n",
            "22\n",
            "21\n",
            "20\n",
            "19\n",
            "18\n",
            "17\n",
            "16\n",
            "15\n",
            "14\n",
            "13\n",
            "12\n",
            "11\n",
            "10\n",
            "9\n",
            "8\n",
            "7\n",
            "6\n",
            "5\n",
            "4\n",
            "3\n",
            "2\n",
            "1\n",
            "0\n",
            "100\n"
          ]
        }
      ]
    },
    {
      "cell_type": "markdown",
      "source": [
        "# 2a. Implementing a queue class from scratch (Optional - intermediate difficulty)\n",
        "\n",
        "As you already know, a stack is a data structure realizing the LIFO (Last In – First Out) model. It's easy and you've already grown perfectly accustomed to it.\n",
        "\n",
        "Let's try something new now. A queue is a data model characterized by the term FIFO: First In – First Out. Note: a regular queue (line) you know from shops or post offices works exactly in the same way – a customer who came first is served first too.\n",
        "\n",
        "Your task is to implement the Queue class with two basic operations:\n",
        "\n",
        "```put(element)```, which puts an element at end of the queue;\n",
        "```get()```, which takes an element from the front of the queue and returns it as the result (the queue cannot be empty to successfully perform it.)\n",
        "Follow the hints:\n",
        "\n",
        "use a list as your storage (just like we did with the stack)\n",
        "```put()``` should append elements to the beginning of the list, while ```get()``` should remove the elements from the end of the list;\n",
        "define a new exception named QueueError (choose an exception to derive it from) and raise it when ```get()``` tries to operate on an empty list.\n",
        "Complete the code we've provided in the editor. Run it to check whether its output is similar to ours.\n",
        "\n",
        "**Expected output**\n",
        "```\n",
        "1\n",
        "dog\n",
        "False\n",
        "Queue error\n",
        "```"
      ],
      "metadata": {
        "id": "0jkTuRdlA6sk"
      }
    },
    {
      "cell_type": "code",
      "source": [
        "class Queue:\n",
        "    def __init__(self):\n",
        "        self.que_list = []\n",
        "\n",
        "    def put(self, elem):\n",
        "        self.que_list.append(elem)\n",
        "\n",
        "    def get(self):\n",
        "        x = self.que_list[0]\n",
        "        self.que_list.pop(0)\n",
        "        return x\n",
        "\n",
        "\n",
        "class QueueError(Queue):  # Choose base class for the new exception.\n",
        "    def __init__(self):\n",
        "        self.que_list = []\n",
        "\n",
        "\n",
        "que = Queue()\n",
        "que.put(1)\n",
        "que.put(\"dog\")\n",
        "que.put(False)\n",
        "try:\n",
        "    for i in range(4):\n",
        "        print(que.get())\n",
        "except:\n",
        "    print(\"Queue error\")\n"
      ],
      "metadata": {
        "id": "8ZIVOfAMQt2Z",
        "colab": {
          "base_uri": "https://localhost:8080/"
        },
        "outputId": "9804582b-a931-4818-b24e-0f7427e84f2a"
      },
      "execution_count": 18,
      "outputs": [
        {
          "output_type": "stream",
          "name": "stdout",
          "text": [
            "1\n",
            "dog\n",
            "False\n",
            "Queue error\n"
          ]
        }
      ]
    },
    {
      "cell_type": "markdown",
      "source": [
        "# 2b. Extending a Queue class capability in part 2a (Optional - intermediate difficulty)\n",
        "\n",
        "Your task is to slightly extend the Queue class' capabilities. We want it to have a parameterless method that returns True if the queue is empty and False otherwise.\n",
        "\n",
        "Complete the code we've provided in the editor. Run it to check whether it outputs a similar result to ours.\n",
        "\n",
        "Below you can copy the code you used in the previous lab:\n",
        "\n"
      ],
      "metadata": {
        "id": "J6CAWQq0HBv6"
      }
    },
    {
      "cell_type": "code",
      "source": [
        "class Queue:\n",
        "    def __init__(self):\n",
        "        self.que_list = []\n",
        "\n",
        "    def put(self, elem):\n",
        "        self.que_list.append(elem)\n",
        "\n",
        "    def get(self):\n",
        "        x = self.que_list[0]\n",
        "        self.que_list.pop(0)\n",
        "        return x\n",
        "\n",
        "\n",
        "class QueueError(Queue):  # Choose base class for the new exception.\n",
        "    def __init__(self):\n",
        "        self.que_list = []\n",
        "\n",
        "\n",
        "class SuperQueue(Queue):\n",
        "    def __init__(self):\n",
        "        self.que_list = []\n",
        "    def isempty(self):\n",
        "      return self.que_list == []\n",
        "\n",
        "\n",
        "que = SuperQueue()\n",
        "que.put(1)\n",
        "que.put(\"dog\")\n",
        "que.put(False)\n",
        "for i in range(4):\n",
        "    if not que.isempty():\n",
        "        print(que.get())\n",
        "    else:\n",
        "        print(\"Queue error\")\n",
        "        break"
      ],
      "metadata": {
        "id": "zhseVMcKL-89",
        "colab": {
          "base_uri": "https://localhost:8080/"
        },
        "outputId": "820fe5de-5e5a-424b-cae4-236bf02c62b4"
      },
      "execution_count": 21,
      "outputs": [
        {
          "output_type": "stream",
          "name": "stdout",
          "text": [
            "1\n",
            "dog\n",
            "False\n",
            "Queue error\n"
          ]
        }
      ]
    },
    {
      "cell_type": "markdown",
      "source": [
        "# 3. Timer class\n",
        "\n",
        "We need a class able to count seconds. Easy? Not as much as you may think as we're going to have some specific expectations.\n",
        "\n",
        "Read them carefully as the class you're about write will be used to launch rockets carrying international missions to Mars. It's a great responsibility.\n",
        "\n",
        "Your class will be called ```Timer```. Its constructor accepts three arguments representing **hours** (a value from range [0..23] - we will be using the military time), **minutes** (from range [0..59]) and **seconds** (from range [0..59]).\n",
        "\n",
        "Zero is the default value for all of the above parameters. There is no need to perform any validation checks.\n",
        "\n",
        "The class itself should provide the following facilities:\n",
        "\n",
        "- objects of the class should be \"printable\", i.e. they should be able to implicitly convert themselves into strings of the following form: \"hh:mm:ss\", with leading zeros added when any of the values is less than 10;\n",
        "- the class should be equipped with parameterless methods called ```next_second()``` and ```previous_second()```, incrementing the time stored inside objects by +1/-1 second respectively.\n",
        "\n",
        "Use the following hints:\n",
        "\n",
        "- all object's properties should be private;\n",
        "- consider writing a separate function (not method!) to format the time string.\n",
        "\n",
        "Complete the template I've provided in the editor. Run your code and check whether the output looks the same as ours.\n",
        "\n",
        "**Expected output**\n",
        "```\n",
        "23:59:59\n",
        "00:00:00\n",
        "23:59:59\n",
        "```"
      ],
      "metadata": {
        "id": "h7Jc8xH-JEmh"
      }
    },
    {
      "cell_type": "code",
      "source": [
        "class Timer:\n",
        "    def __init__(self, hour, minute, second):\n",
        "        self.second = second\n",
        "        self.minute = minute\n",
        "        self.hour = hour\n",
        "\n",
        "    def __str__(self):\n",
        "        return f\"{self.hour:02d}:{self.minute:02d}:{self.second:02d}\"\n",
        "\n",
        "    def next_second(self):\n",
        "        if self.second == 59:\n",
        "            self.second = 0\n",
        "            if self.minute == 59:\n",
        "                self.minute = 0\n",
        "                if self.hour == 23:\n",
        "                    self.hour = 0\n",
        "                else:\n",
        "                    self.hour += 1\n",
        "            else:\n",
        "                self.minute += 1\n",
        "        else:\n",
        "            self.second += 1\n",
        "\n",
        "    def prev_second(self):\n",
        "        if self.second == 0:\n",
        "            self.second = 59\n",
        "            if self.minute == 0:\n",
        "                self.minute = 59\n",
        "                if self.hour == 0:\n",
        "                    self.hour = 59\n",
        "                else:\n",
        "                    self.hour -= 1\n",
        "            else:\n",
        "                self.minute -= 1\n",
        "        else:\n",
        "            self.second -= 1\n",
        "\n",
        "\n",
        "timer = Timer(23, 59, 59)\n",
        "print(timer)\n",
        "timer.next_second()\n",
        "print(timer)\n",
        "timer.prev_second()\n",
        "print(timer)\n"
      ],
      "metadata": {
        "id": "Nfv-ATQUKlW2",
        "colab": {
          "base_uri": "https://localhost:8080/"
        },
        "outputId": "454ee6d7-2b0a-4fe5-d725-bb3e9d0f327c"
      },
      "execution_count": null,
      "outputs": [
        {
          "output_type": "stream",
          "name": "stdout",
          "text": [
            "23:59:59\n",
            "00:00:00\n",
            "59:59:59\n"
          ]
        }
      ]
    },
    {
      "cell_type": "markdown",
      "source": [
        "# 4. Weeker class\n",
        "\n",
        "Your task is to implement a class called ```Weeker```. Yes, your eyes don't deceive you – this name comes from the fact that objects of that class will be able to store and to manipulate the days of the week.\n",
        "\n",
        "The class constructor accepts one argument – a string. The string represents the name of the day of the week and the only acceptable values must come from the following set:\n",
        "\n",
        "```Mon Tue Wed Thu Fri Sat Sun```\n",
        "\n",
        "Invoking the constructor with an argument from outside this set should raise the ```WeekDayError``` exception. The class should provide the following facilities:\n",
        "\n",
        "objects of the class should be \"printable\", i.e. they should be able to implicitly convert themselves into strings of the same form as the constructor arguments;\n",
        "the class should be equipped with one-parameter methods called ```add_days(n)``` and ```subtract_days(n)```, with ```n``` being an integer number and updating the day of week stored inside the object in the way reflecting the change of date by the indicated number of days, forward or backward.\n",
        "all object's properties should be private;\n",
        "\n",
        "Complete the template I've provided in the editor and run your code and check whether your output looks the same as mine.\n",
        "\n",
        "**Expected output**\n",
        "```\n",
        "Mon\n",
        "Tue\n",
        "Sun\n",
        "Sorry, I can't serve your request.\n",
        "```"
      ],
      "metadata": {
        "id": "lLeAeQwmSHWL"
      }
    },
    {
      "cell_type": "code",
      "source": [
        "class Weeker:\n",
        "    def __init__(self, days):\n",
        "        self.days = days\n",
        "        self.removed = []\n",
        "\n",
        "    def add_days(self, n):\n",
        "        self.days[len(self.removed):] = self.removed[-n:]\n",
        "        self.removed = self.removed[:-n]\n",
        "\n",
        "    def subtract_days(self, n):\n",
        "        self.removed[:-len(self.removed)] = self.days[-n:]\n",
        "        self.days = self.days[:-n]\n",
        "\n",
        "    def print(self):\n",
        "        print(*self.days, sep = \"\\n\")\n",
        "\n",
        "\n",
        "class WeekDayError(Weeker):\n",
        "    def __init__(self, days):\n",
        "        self.days = days\n",
        "        self.removed = []\n",
        "\n",
        "    def checkError(self):\n",
        "        if \"Sun\" in self.days or \"Sat\" in self.days:\n",
        "            print(\"Sorry, I can't serve your request.\")\n",
        "\n",
        "\n",
        "days_of_week = [\"Mon\", \"Tue\", \"Wed\", \"Thu\", \"Fri\", \"Sat\", \"Sun\"]\n",
        "week = WeekDayError(days_of_week)\n",
        "week.subtract_days(5)\n",
        "week.add_days(1)\n",
        "week.print()\n",
        "week.checkError()"
      ],
      "metadata": {
        "id": "nABss2lseS2Z",
        "colab": {
          "base_uri": "https://localhost:8080/"
        },
        "outputId": "9e536146-59e5-462f-f602-df0c6e6d881c"
      },
      "execution_count": null,
      "outputs": [
        {
          "output_type": "stream",
          "name": "stdout",
          "text": [
            "Mon\n",
            "Tue\n",
            "Sun\n",
            "Sorry, I can't serve your request.\n"
          ]
        }
      ]
    },
    {
      "cell_type": "markdown",
      "source": [
        "## Challenges\n",
        "\n",
        "Please describe the challenges you faced during the exercise."
      ],
      "metadata": {
        "id": "xQzjxKdvvbyo"
      }
    },
    {
      "cell_type": "markdown",
      "source": [
        "The direction on assignment 2a was difficult for me to understand."
      ],
      "metadata": {
        "id": "Le9fIBb2eRiZ"
      }
    }
  ]
}
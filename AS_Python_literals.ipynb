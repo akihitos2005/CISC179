{
  "nbformat": 4,
  "nbformat_minor": 0,
  "metadata": {
    "colab": {
      "provenance": [],
      "include_colab_link": true
    },
    "kernelspec": {
      "name": "python3",
      "display_name": "Python 3"
    },
    "language_info": {
      "name": "python"
    }
  },
  "cells": [
    {
      "cell_type": "markdown",
      "metadata": {
        "id": "view-in-github",
        "colab_type": "text"
      },
      "source": [
        "<a href=\"https://colab.research.google.com/github/akihitos2005/CISC179/blob/main/AS_Python_literals.ipynb\" target=\"_parent\"><img src=\"https://colab.research.google.com/assets/colab-badge.svg\" alt=\"Open In Colab\"/></a>"
      ]
    },
    {
      "cell_type": "markdown",
      "source": [
        "# Python literals\n",
        "\n",
        "## Objective\n",
        "1. Understand how Python uses literals.\n",
        "2. Differentiate Integer, Float, Boolean and String data types.\n",
        "3. Understanding how arithmetic operations are performed and recognizing the precedence of operators.\n",
        "\n",
        "## Prerequisite\n",
        "\n",
        "- Python & literals lecture\n",
        "\n",
        "## What do you need to complete this exercise?\n",
        "\n",
        "You can perform this exercise in any Python IDE, including JupyterLab or Google Colab."
      ],
      "metadata": {
        "id": "2ITy4ycVFXBq"
      }
    },
    {
      "cell_type": "markdown",
      "source": [
        "### Literals\n",
        "\n",
        "a) What will the output be without using Python? Aim for 80% accuracy.\n",
        "\n",
        "```print(5 + 2 - 2)```\n",
        "\n",
        "```print(5 / 2)```\n",
        "\n",
        "```print(6 // 2) # // integer division```\n",
        "\n",
        "```print(2. * 3)```\n",
        "\n",
        "```print(2 < 4)```\n",
        "\n",
        "```print(2 >= 2)```\n",
        "\n",
        "```print(\"Hello\"+\"World\")```\n",
        "\n",
        "```print(\"bla\" * 3)```\n",
        "\n",
        "```print(2 * 3 ** 3)```\n",
        "\n",
        "```print(5 * 25 // 13 + 100 / 2 % 13 // 2)```\n",
        "\n",
        "```print(2 * 3 % 5)```\n",
        "\n",
        "```print((2 % -4), (2 % 4), (2 ** 3 ** 2))```\n"
      ],
      "metadata": {
        "id": "uQxH0KO0tsDc"
      }
    },
    {
      "cell_type": "markdown",
      "source": [
        "```\n",
        "5\n",
        "2\n",
        "3\n",
        "6\n",
        "True\n",
        "True\n",
        "Hello World\n",
        "bla bla bla\n",
        "54\n",
        "14\n",
        "1\n",
        "-2 2 512\n",
        "```"
      ],
      "metadata": {
        "id": "OWH4uVYpUw8R"
      }
    },
    {
      "cell_type": "markdown",
      "source": [
        "b) Please verify using Python to determine if you have achieved at least 80% correct answers."
      ],
      "metadata": {
        "id": "4HjghxnSJgY1"
      }
    },
    {
      "cell_type": "code",
      "source": [
        "print(5 + 2 - 2)\n",
        "\n",
        "print(5 / 2)\n",
        "\n",
        "print(6 // 2) # // integer division\n",
        "\n",
        "print(2. * 3)\n",
        "\n",
        "print(2 < 4)\n",
        "\n",
        "print(2 >= 2)\n",
        "\n",
        "print(\"Hello\"+\"World\")\n",
        "\n",
        "print(\"bla\" * 3)\n",
        "\n",
        "print(2 * 3 ** 3)\n",
        "\n",
        "print(5 * 25 // 13 + 100 / 2 % 13 // 2)\n",
        "\n",
        "print(2 * 3 % 5)\n",
        "\n",
        "print((2 % -4), (2 % 4), (2 ** 3 ** 2))"
      ],
      "metadata": {
        "id": "tLQh-A7Kt70H",
        "outputId": "01784192-3e36-4434-dfe4-e3cd37984157",
        "colab": {
          "base_uri": "https://localhost:8080/"
        }
      },
      "execution_count": null,
      "outputs": [
        {
          "output_type": "stream",
          "name": "stdout",
          "text": [
            "5\n",
            "2.5\n",
            "3\n",
            "6.0\n",
            "True\n",
            "True\n",
            "HelloWorld\n",
            "blablabla\n",
            "54\n",
            "14.0\n",
            "1\n",
            "-2 2 512\n"
          ]
        }
      ]
    },
    {
      "cell_type": "markdown",
      "source": [
        "### Data type\n"
      ],
      "metadata": {
        "id": "58GMVBXqKY89"
      }
    },
    {
      "cell_type": "markdown",
      "source": [
        "a) What will the output be without using Python? Aim for 80% accuracy.\n",
        "```type(\"Hello\")```\n",
        "\n",
        "```type(1+\"2\")```\n",
        "\n",
        "```type(1.)```\n",
        "\n",
        "```type('A')```\n",
        "\n",
        "```type(500)```\n",
        "\n",
        "```type(True)```\n",
        "\n",
        "```type(\"False\")```\n"
      ],
      "metadata": {
        "id": "f3_kJZnHKolp"
      }
    },
    {
      "cell_type": "markdown",
      "source": [
        "```\n",
        "str\n",
        "Null\n",
        "int\n",
        "str\n",
        "int\n",
        "bool\n",
        "str\n",
        "```"
      ],
      "metadata": {
        "id": "TZ3zlabVMebV"
      }
    },
    {
      "cell_type": "markdown",
      "source": [
        "b) Please verify using Python to determine if you have achieved at least 80% correct answers."
      ],
      "metadata": {
        "id": "LmwF2Rg2Li7M"
      }
    },
    {
      "cell_type": "code",
      "source": [
        "print(type(\"Hello\"))\n",
        "\n",
        "print(type(1+\"2\")) # \"+\" doesn't work for str and int.\n",
        "\n",
        "print(type(1.))\n",
        "\n",
        "print(type('A'))\n",
        "\n",
        "print(type(500))\n",
        "\n",
        "print(type(True))\n",
        "\n",
        "print(type(\"False\"))"
      ],
      "metadata": {
        "id": "kLoyOaLLLnSK",
        "outputId": "089c320a-56b4-4d94-e1da-a87338b42867",
        "colab": {
          "base_uri": "https://localhost:8080/"
        }
      },
      "execution_count": null,
      "outputs": [
        {
          "output_type": "stream",
          "name": "stdout",
          "text": [
            "<class 'float'>\n",
            "<class 'str'>\n",
            "<class 'int'>\n",
            "<class 'bool'>\n",
            "<class 'str'>\n"
          ]
        }
      ]
    },
    {
      "cell_type": "markdown",
      "source": [
        "### Operator precedence"
      ],
      "metadata": {
        "id": "WpQLLdj7Lr4K"
      }
    },
    {
      "cell_type": "markdown",
      "source": [
        "a) Write your arithmetic expression that uses at least one operator from each group. For example ```5 * 25 % 13 + 100 / -2 * 13 // 2 ** 3```"
      ],
      "metadata": {
        "id": "DdtOLAZfLz8X"
      }
    },
    {
      "cell_type": "code",
      "source": [
        "2**5//12+50*-4-20/5%3"
      ],
      "metadata": {
        "id": "iJH2iRokL14f"
      },
      "execution_count": null,
      "outputs": []
    },
    {
      "cell_type": "markdown",
      "source": [
        "b) What will the output be without using Python after writing your arithmetic expression? Use the table below for your reference."
      ],
      "metadata": {
        "id": "C8NjhQrfMILL"
      }
    },
    {
      "cell_type": "markdown",
      "source": [
        "| Priority | Operator                                                     | Notes                    |\n",
        "| :------- | :----------------------------------------------------------- | :----------------------- |\n",
        "| 1        | `**`                                                         | Right to left evaluation |\n",
        "| 2        | `+`, `-` (note: unary operators located next to the right of the power operator bind more strongly) | unary                    |\n",
        "| 3        | `*`, `/`, `//`, `%`                                          | Left to right evaluation |\n",
        "| 4        | `+`, `-`                                                     | binary                   |"
      ],
      "metadata": {
        "id": "DqRqRrNsMPRp"
      }
    },
    {
      "cell_type": "markdown",
      "source": [
        "-199"
      ],
      "metadata": {
        "id": "cKsvL_1JMRVJ"
      }
    },
    {
      "cell_type": "markdown",
      "source": [
        "c) Please verify using Python to determine if you have done it correctly."
      ],
      "metadata": {
        "id": "9micAN0HM2VI"
      }
    },
    {
      "cell_type": "code",
      "source": [
        "2**5//12+50*-4-20/5%3"
      ],
      "metadata": {
        "id": "oyX3LQADM4IY",
        "outputId": "9fd447ad-3586-4b54-dbdc-03f42fd07118",
        "colab": {
          "base_uri": "https://localhost:8080/"
        }
      },
      "execution_count": null,
      "outputs": [
        {
          "output_type": "execute_result",
          "data": {
            "text/plain": [
              "-199.0"
            ]
          },
          "metadata": {},
          "execution_count": 10
        }
      ]
    },
    {
      "cell_type": "markdown",
      "source": [
        "## Challenges\n",
        "\n",
        "Please describe the challenges you faced during the exercise."
      ],
      "metadata": {
        "id": "xQzjxKdvvbyo"
      }
    },
    {
      "cell_type": "markdown",
      "source": [
        "I didn't understand the part about \"Aim for 80% accuracy.\""
      ],
      "metadata": {
        "id": "qfJNpTB5EbY4"
      }
    }
  ]
}
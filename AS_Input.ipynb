{
  "nbformat": 4,
  "nbformat_minor": 0,
  "metadata": {
    "colab": {
      "provenance": [],
      "include_colab_link": true
    },
    "kernelspec": {
      "name": "python3",
      "display_name": "Python 3"
    },
    "language_info": {
      "name": "python"
    }
  },
  "cells": [
    {
      "cell_type": "markdown",
      "metadata": {
        "id": "view-in-github",
        "colab_type": "text"
      },
      "source": [
        "<a href=\"https://colab.research.google.com/github/akihitos2005/CISC179/blob/main/AS_Input.ipynb\" target=\"_parent\"><img src=\"https://colab.research.google.com/assets/colab-badge.svg\" alt=\"Open In Colab\"/></a>"
      ]
    },
    {
      "cell_type": "markdown",
      "source": [
        "# User input in Python\n",
        "\n",
        "## Objective\n",
        "1. Understand how ```input()``` function is applied.\n",
        "\n",
        "## Prerequisite\n",
        "\n",
        "- Python literals lecture & lab\n",
        "- Programming variables lecture\n",
        "\n",
        "## What do you need to complete this exercise?\n",
        "\n",
        "You can perform this exercise in any Python IDE, including JupyterLab or Google Colab.\n"
      ],
      "metadata": {
        "id": "2ITy4ycVFXBq"
      }
    },
    {
      "cell_type": "markdown",
      "source": [
        "### User input\n",
        "\n",
        "a. Write a program that prompts the user to enter the weight of a person in kilograms and outputs the equivalent weight in pounds. (Note that 1 kilogram = 2.2 pounds)."
      ],
      "metadata": {
        "id": "uQxH0KO0tsDc"
      }
    },
    {
      "cell_type": "code",
      "source": [
        "# Write your code here\n",
        "# Hint: Use int() or float() to convert the user input into an integer or float\n",
        "x = \"10\"\n",
        "print(type(x))\n",
        "x = int(x)\n",
        "print(type(x))"
      ],
      "metadata": {
        "colab": {
          "base_uri": "https://localhost:8080/"
        },
        "id": "N3wgQQ672rWR",
        "outputId": "c400b91b-e713-42ca-c87a-2a05a6960ed2"
      },
      "execution_count": null,
      "outputs": [
        {
          "output_type": "stream",
          "name": "stdout",
          "text": [
            "<class 'str'>\n",
            "<class 'int'>\n"
          ]
        }
      ]
    },
    {
      "cell_type": "code",
      "source": [
        "kilograms=int(input(\"Enter the weight in kg: \"))\n",
        "pounds=kilograms*2.2\n",
        "print(\"Your weight in pounds: \",int(pounds))"
      ],
      "metadata": {
        "colab": {
          "base_uri": "https://localhost:8080/"
        },
        "id": "decw_w3_CpGg",
        "outputId": "159d59c3-b3fa-4c11-ece3-d1baa67fd7f8"
      },
      "execution_count": null,
      "outputs": [
        {
          "output_type": "stream",
          "name": "stdout",
          "text": [
            "Enter the weight in kg: 60\n",
            "Your weight in pounds:  132\n"
          ]
        }
      ]
    },
    {
      "cell_type": "markdown",
      "source": [
        "b. Interest on a credit card's unpaid balance is calculated using the average daily balance. Suppose that $netBalance$ is the balance shown in the bill, $payment$ is the payment made, $d1$ is the number of days in the billing cycle, and $d2$ is the number of days payment is made before biling cycle. Then, the average daily balance is: $$averageDailybalance = (netBalance \\times d1 - payment \\times d2)/d1$$.\n",
        "\n",
        "If the interest rate per month is, say, 0.0152, then the interest on the unpaid balance is: $interest = averageDailyBalance \\times 0.0152$\n",
        "\n",
        "Write a program that accepts as input $netBalance$, $payment$, $d1$, $d2$, and $interest rate per month$. The program outputs the interest."
      ],
      "metadata": {
        "id": "2ou6B-5b2ws3"
      }
    },
    {
      "cell_type": "code",
      "source": [
        "netBalance=int(input(\"Enter the net balance: \"))\n",
        "payment=int(input(\"Enter the payment made: \"))\n",
        "d1=int(input(\"Enter the days in the billing cycle: \"))\n",
        "d2=int(input(\"Enter payment days before billing cycle: \"))\n",
        "averageDailyBalance=(netBalance*d1-payment*d2)/d1\n",
        "interest=averageDailyBalance*0.0152\n",
        "print(f\"The interest is ${interest:.2f}\")"
      ],
      "metadata": {
        "id": "pqP70bD02x9h",
        "outputId": "49d4e50a-23d9-42f7-c47f-ba4aa80684d5",
        "colab": {
          "base_uri": "https://localhost:8080/"
        }
      },
      "execution_count": null,
      "outputs": [
        {
          "output_type": "stream",
          "name": "stdout",
          "text": [
            "Enter the net balance: 10000\n",
            "Enter the payment made: 5000\n",
            "Enter the days in the billing cycle: 30\n",
            "Enter payment days before billing cycle: 15\n",
            "The interest is $114.00\n"
          ]
        }
      ]
    },
    {
      "cell_type": "markdown",
      "source": [
        "c. Two cars A and B leave an intersection at the same time. Car A travels west at an average speed of x miles per hour and car B travels south at an average speed of y miles per hour. Write a program that prompts the user to enter the average speed of both the cars and the elapsed time (in hours and minutes) and outputs the (shortest) distance between the cars."
      ],
      "metadata": {
        "id": "gAxw_xVk25qO"
      }
    },
    {
      "cell_type": "code",
      "source": [
        "sA=int(input(\"Enter the average speed of car A in mph: \"))\n",
        "sB=int(input(\"Enter the average speed of car B in mph: \"))\n",
        "time_str = input(\"Enter elapsed time(HH:MM): \")\n",
        "h, m = map(int, time_str.split(':'))\n",
        "t = h + m / 60\n",
        "d=((sA*t)**2+(sB*t)**2)**0.5\n",
        "print(\"The shortest distance between the cars in miles: \",d)"
      ],
      "metadata": {
        "id": "nMPuZXsH26nW",
        "outputId": "fc505f6f-e46b-47b1-9f43-e7e5935be6f5",
        "colab": {
          "base_uri": "https://localhost:8080/"
        }
      },
      "execution_count": null,
      "outputs": [
        {
          "output_type": "stream",
          "name": "stdout",
          "text": [
            "Enter the average speed of car A in mph: 45\n",
            "Enter the average speed of car B in mph: 55\n",
            "Enter elapsed time(HH:MM): 1:00\n",
            "The shortest distance between the cars in miles:  71.06335201775947\n"
          ]
        }
      ]
    },
    {
      "cell_type": "markdown",
      "source": [
        "### Troubleshooting\n",
        "\n",
        "Please troubleshoot the following issue **without using Python**, and explain your reasoning.\n",
        "\n",
        "a. ```hello = \"hello\"```  \n",
        "b. ```_var = 100```  \n",
        "c. ```!var_1 = 200```  \n",
        "d. ```print = \"print me\"```  \n",
        "e. ```False = 0```  "
      ],
      "metadata": {
        "id": "V0l5fqK-NJ2n"
      }
    },
    {
      "cell_type": "markdown",
      "source": [
        "a. The variable name cannot be the string value.\n",
        "\n",
        "b. The variable name shouldn't start with underscore.\n",
        "\n",
        "c. The variable name shouldn't contain special characters.\n",
        "\n",
        "d. Function name can't be used as a variable name.\n",
        "\n",
        "e. Boolean value can't be used as a variable name."
      ],
      "metadata": {
        "id": "Cz8CqobPNO8n"
      }
    },
    {
      "cell_type": "markdown",
      "source": [
        "## Challenges\n",
        "\n",
        "Please describe the challenges you faced during the exercise."
      ],
      "metadata": {
        "id": "xQzjxKdvvbyo"
      }
    },
    {
      "cell_type": "markdown",
      "source": [
        "I learned to use datatype casting when I use operation."
      ],
      "metadata": {
        "id": "qfJNpTB5EbY4"
      }
    }
  ]
}
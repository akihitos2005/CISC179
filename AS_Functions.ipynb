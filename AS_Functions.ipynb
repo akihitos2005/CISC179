{
  "nbformat": 4,
  "nbformat_minor": 0,
  "metadata": {
    "colab": {
      "provenance": [],
      "include_colab_link": true
    },
    "kernelspec": {
      "name": "python3",
      "display_name": "Python 3"
    },
    "language_info": {
      "name": "python"
    }
  },
  "cells": [
    {
      "cell_type": "markdown",
      "metadata": {
        "id": "view-in-github",
        "colab_type": "text"
      },
      "source": [
        "<a href=\"https://colab.research.google.com/github/akihitos2005/CISC179/blob/main/AS_Functions.ipynb\" target=\"_parent\"><img src=\"https://colab.research.google.com/assets/colab-badge.svg\" alt=\"Open In Colab\"/></a>"
      ]
    },
    {
      "cell_type": "markdown",
      "source": [
        "# Functions in Python\n",
        "Functions are designed to perform the same task repeatedly. For the user, they operate like a black box, with no visibility into how the function is implemented. Users provide compatible arguments to the function, or in some cases, no arguments at all, and the function executes according to the programmer's implementation.\n",
        "\n",
        "## Objective\n",
        "- Understand how arguments are used in functions\n",
        "- Function variables visibility and global variables\n",
        "- Troubleshoot functions\n",
        "\n",
        "## Prerequisite\n",
        "\n",
        "- Lists & tuples\n",
        "- Decision and loops\n",
        "\n",
        "\n",
        "## What do you need to complete this exercise?\n",
        "\n",
        "You can perform this exercise in any Python IDE, including JupyterLab or Google Colab.\n"
      ],
      "metadata": {
        "id": "2ITy4ycVFXBq"
      }
    },
    {
      "cell_type": "markdown",
      "source": [
        "# Create a unit conversion program using functions\n",
        "1a. The user selects kilometers per liter (kpl), and the response will be provided in miles per gallon (mpg). The units must be interchangeable, so the program will ask the user whether to convert from kpl to mpg or vice versa.\n",
        "\n",
        "The program will prompt the user for input and deliver output with the appropriate units.\n",
        "\n",
        "Additionally, the program will include input validation. For example, it will not accept letter inputs and will provide an error message to the user when invalid input is detected.\n",
        "\n",
        "The function will also allow multiple arguments, enabling the user to convert multiple values at once.\n",
        "\n",
        "Research and find out the conversion factor between the units."
      ],
      "metadata": {
        "id": "uQxH0KO0tsDc"
      }
    },
    {
      "cell_type": "code",
      "source": [
        "def kpl2mpg(x):\n",
        "  return x*0.354"
      ],
      "metadata": {
        "id": "rRTflD1C9mjt"
      },
      "execution_count": null,
      "outputs": []
    },
    {
      "cell_type": "markdown",
      "source": [
        "1b. How would you write a function that could take any number of unnamed arguments and print their values out in reverse order?\n"
      ],
      "metadata": {
        "id": "0jkTuRdlA6sk"
      }
    },
    {
      "cell_type": "code",
      "source": [
        "def reverse_print(*args):\n",
        "  print(*args[::-1])"
      ],
      "metadata": {
        "id": "baxf2KuDmCFD"
      },
      "execution_count": null,
      "outputs": []
    },
    {
      "cell_type": "markdown",
      "source": [
        "1c. What would be the result of changing a list or dictionary that was passed into a function as a parameter value? Which operations would be likely to create changes that would be visible outside the function? What steps might you take to minimize that risk?\n",
        "\n",
        "Explain the above statements with the help of code."
      ],
      "metadata": {
        "id": "sL7k6J70zdzH"
      }
    },
    {
      "cell_type": "markdown",
      "source": [
        "The asterick is to group remaining arguments into tuples. Global operation is likely to create change for outside the function. Assigning the variable again after excecute the function."
      ],
      "metadata": {
        "id": "Bg93WFAzsAfY"
      }
    },
    {
      "cell_type": "markdown",
      "source": [
        "1d. Assuming that ```x = 5```, what will be the value of ```x``` after ```funct_1()``` below executes? After ```funct_2()``` executes?\n"
      ],
      "metadata": {
        "id": "1wWF-wZx2h9s"
      }
    },
    {
      "cell_type": "code",
      "source": [
        "x = 5\n",
        "def funct_1():\n",
        "  x=3\n",
        "\n",
        "def funct_2():\n",
        "  global x\n",
        "  x=2\n",
        "# x=2"
      ],
      "metadata": {
        "id": "nvd-xB2v3AYh"
      },
      "execution_count": null,
      "outputs": []
    },
    {
      "cell_type": "markdown",
      "source": [
        "# 2. Troubleshooting"
      ],
      "metadata": {
        "id": "tJlIQIYjBPLX"
      }
    },
    {
      "cell_type": "markdown",
      "source": [
        "Correct the following code. There might be more than one correct answers. Explain your reasoning."
      ],
      "metadata": {
        "id": "V8HkUVFy6DlD"
      }
    },
    {
      "cell_type": "code",
      "source": [
        "def my_func(a,b,**c):\n",
        "  print(c)\n",
        "\n",
        "my_func(1,2,c=3,d=4,e=5,f=6)"
      ],
      "metadata": {
        "id": "bJzMzbxIsAU9",
        "colab": {
          "base_uri": "https://localhost:8080/"
        },
        "outputId": "6d1262b2-2876-47e9-e219-1e9e22985416"
      },
      "execution_count": null,
      "outputs": [
        {
          "output_type": "stream",
          "name": "stdout",
          "text": [
            "{'c': 3, 'd': 4, 'e': 5, 'f': 6}\n"
          ]
        }
      ]
    },
    {
      "cell_type": "markdown",
      "source": [
        "Double astricks convert variable assignment parameters into dictionary."
      ],
      "metadata": {
        "id": "5c7-C9355cVL"
      }
    },
    {
      "cell_type": "markdown",
      "source": [
        "Printing dictionary"
      ],
      "metadata": {
        "id": "Rx6BR_DS1nzP"
      }
    },
    {
      "cell_type": "markdown",
      "source": [
        "Using the following code, x should print 100 but it prints 10, why?"
      ],
      "metadata": {
        "id": "sYDRYXa9vbX4"
      }
    },
    {
      "cell_type": "code",
      "source": [
        "def my_func_global():\n",
        "  x = 100\n",
        "\n",
        "global x\n",
        "x = 10\n",
        "my_func_global()\n",
        "print(x)"
      ],
      "metadata": {
        "id": "w93b1OeVNYuf",
        "colab": {
          "base_uri": "https://localhost:8080/"
        },
        "outputId": "ca0b3182-38f4-4ae1-c163-f713ea7c765d"
      },
      "execution_count": null,
      "outputs": [
        {
          "output_type": "stream",
          "name": "stdout",
          "text": [
            "10\n"
          ]
        }
      ]
    },
    {
      "cell_type": "markdown",
      "source": [
        "In the function definition, there is no global keyword for variable x."
      ],
      "metadata": {
        "id": "qMWcyhlz78dr"
      }
    },
    {
      "cell_type": "markdown",
      "source": [
        "## Challenges\n",
        "\n",
        "Please describe the challenges you faced during the exercise."
      ],
      "metadata": {
        "id": "xQzjxKdvvbyo"
      }
    },
    {
      "cell_type": "markdown",
      "source": [
        "I haven't use asterick or double asterick for the function parameter."
      ],
      "metadata": {
        "id": "qfJNpTB5EbY4"
      }
    }
  ]
}
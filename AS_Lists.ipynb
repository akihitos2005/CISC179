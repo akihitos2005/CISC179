{
  "nbformat": 4,
  "nbformat_minor": 0,
  "metadata": {
    "colab": {
      "provenance": []
    },
    "kernelspec": {
      "name": "python3",
      "display_name": "Python 3"
    },
    "language_info": {
      "name": "python"
    }
  },
  "cells": [
    {
      "cell_type": "markdown",
      "source": [
        "# Lists in Python\n",
        "A list is an ordered collection of elements, and each element can be of any data type, such as numbers, strings, Booleans, or even other lists. In Python, lists are mutable, meaning their contents can be changed. Lists are particularly useful when you want to handle a group of related values.\n",
        "\n",
        "## Objective\n",
        "- Comprehend the application of lists\n",
        "- Understand how a list uses memory\n",
        "- Apply various operations on a list\n",
        "\n",
        "## Prerequisite\n",
        "\n",
        "- Decision statements\n",
        "- Input functions\n",
        "- Python literals\n",
        "- Programming variables\n",
        "\n",
        "\n",
        "## What do you need to complete this exercise?\n",
        "\n",
        "You can perform this exercise in any Python IDE, including JupyterLab or Google Colab.\n"
      ],
      "metadata": {
        "id": "2ITy4ycVFXBq"
      }
    },
    {
      "cell_type": "markdown",
      "source": [
        "a) a. Using a range function, generate a list of 100 integers and assign the list to ```my_list```. Verify that the variable ```my_list``` data type is list. Use your favorite four methods and apply on the list. You can find the methods on [Python Docs](https://docs.python.org/3/tutorial/datastructures.html)"
      ],
      "metadata": {
        "id": "uQxH0KO0tsDc"
      }
    },
    {
      "cell_type": "code",
      "source": [
        "# THe four methods are append, copy, pop and indexing.\n",
        "my_list=[]\n",
        "for i in range(1,101):\n",
        "  my_list.append(i)\n",
        "my_list2=my_list.copy()\n",
        "for _ in range(100):\n",
        "  my_list.pop()\n",
        "for i in range(100):\n",
        "  print(my_list2[i])\n",
        "print(type(my_list))\n",
        "print(type(my_list2))"
      ],
      "metadata": {
        "id": "rRTflD1C9mjt",
        "outputId": "70dd148d-ab56-498b-9b93-93f8196f9628",
        "colab": {
          "base_uri": "https://localhost:8080/"
        }
      },
      "execution_count": null,
      "outputs": [
        {
          "output_type": "stream",
          "name": "stdout",
          "text": [
            "1\n",
            "2\n",
            "3\n",
            "4\n",
            "5\n",
            "6\n",
            "7\n",
            "8\n",
            "9\n",
            "10\n",
            "11\n",
            "12\n",
            "13\n",
            "14\n",
            "15\n",
            "16\n",
            "17\n",
            "18\n",
            "19\n",
            "20\n",
            "21\n",
            "22\n",
            "23\n",
            "24\n",
            "25\n",
            "26\n",
            "27\n",
            "28\n",
            "29\n",
            "30\n",
            "31\n",
            "32\n",
            "33\n",
            "34\n",
            "35\n",
            "36\n",
            "37\n",
            "38\n",
            "39\n",
            "40\n",
            "41\n",
            "42\n",
            "43\n",
            "44\n",
            "45\n",
            "46\n",
            "47\n",
            "48\n",
            "49\n",
            "50\n",
            "51\n",
            "52\n",
            "53\n",
            "54\n",
            "55\n",
            "56\n",
            "57\n",
            "58\n",
            "59\n",
            "60\n",
            "61\n",
            "62\n",
            "63\n",
            "64\n",
            "65\n",
            "66\n",
            "67\n",
            "68\n",
            "69\n",
            "70\n",
            "71\n",
            "72\n",
            "73\n",
            "74\n",
            "75\n",
            "76\n",
            "77\n",
            "78\n",
            "79\n",
            "80\n",
            "81\n",
            "82\n",
            "83\n",
            "84\n",
            "85\n",
            "86\n",
            "87\n",
            "88\n",
            "89\n",
            "90\n",
            "91\n",
            "92\n",
            "93\n",
            "94\n",
            "95\n",
            "96\n",
            "97\n",
            "98\n",
            "99\n",
            "100\n",
            "<class 'list'>\n",
            "<class 'list'>\n"
          ]
        }
      ]
    },
    {
      "cell_type": "markdown",
      "source": [
        "b. Suppose that you have a list of 10 items long. How might you move the last three items from the end of the list to the beginning, keeping them in the same order?"
      ],
      "metadata": {
        "id": "0jkTuRdlA6sk"
      }
    },
    {
      "cell_type": "code",
      "source": [
        "my_list=[1,2,3,4,5,6,7,8,9,10]\n",
        "my_list=my_list[-3:]+my_list[:-3]\n",
        "print(my_list)"
      ],
      "metadata": {
        "id": "8ZIVOfAMQt2Z",
        "outputId": "2295508a-3f82-4e4c-ae20-4ab53c9de646",
        "colab": {
          "base_uri": "https://localhost:8080/"
        }
      },
      "execution_count": null,
      "outputs": [
        {
          "output_type": "stream",
          "name": "stdout",
          "text": [
            "[8, 9, 10, 1, 2, 3, 4, 5, 6, 7]\n"
          ]
        }
      ]
    },
    {
      "cell_type": "markdown",
      "source": [
        "c. What would be the result of ```len([[1,2]] * 3)```? Try to do it without coding and then verify using Python."
      ],
      "metadata": {
        "id": "Wv1LOaouA_Gq"
      }
    },
    {
      "cell_type": "code",
      "source": [
        "print(len([[1,2]]*3)) # 3"
      ],
      "metadata": {
        "id": "cF0UyMIqQ8V3",
        "outputId": "becae6f7-fc04-4eb0-bb56-05249fb4b28f",
        "colab": {
          "base_uri": "https://localhost:8080/"
        }
      },
      "execution_count": null,
      "outputs": [
        {
          "output_type": "stream",
          "name": "stdout",
          "text": [
            "3\n"
          ]
        }
      ]
    },
    {
      "cell_type": "markdown",
      "source": [
        "d. Create a list ```my-list-ten``` of 10 items that includes some duplicate entries. Then, generate a second list ```my-list-ten-mem``` that contains the memory addresses of the items from the list ```my-list-ten```. Use Python to research and identify the unique and duplicate memory addresses."
      ],
      "metadata": {
        "id": "0IWZsl7LBGvD"
      }
    },
    {
      "cell_type": "code",
      "source": [
        "my_list_ten=[3,1,4,1,5,9,2,6,5,3]\n",
        "my_list_ten_mem=[]\n",
        "uniques=[]\n",
        "duplicates=[]\n",
        "for i in my_list_ten:\n",
        "  my_list_ten_mem.append(id(i))\n",
        "print(my_list_ten_mem)\n",
        "for d in range(10):\n",
        "  n=0\n",
        "  for item in my_list_ten:\n",
        "    if item==d:\n",
        "      n+=1\n",
        "  if n>1:\n",
        "    duplicate.append(id(d))\n",
        "  elif n==1:\n",
        "    unique.append(id(d))\n",
        "print(\"unique:\",unique)\n",
        "print(\"duplicate:\",duplicate)"
      ],
      "metadata": {
        "id": "S5kO371-Q_NL",
        "outputId": "4d0aafeb-f6c9-4308-e8e2-549fa98df862",
        "colab": {
          "base_uri": "https://localhost:8080/"
        }
      },
      "execution_count": null,
      "outputs": [
        {
          "output_type": "stream",
          "name": "stdout",
          "text": [
            "[10750920, 10750856, 10750952, 10750856, 10750984, 10751112, 10750888, 10751016, 10750984, 10750920]\n",
            "unique: [10750888, 10750952, 10751016, 10751112]\n",
            "duplicate: [10750856, 10750920, 10750984]\n"
          ]
        }
      ]
    },
    {
      "cell_type": "markdown",
      "source": [
        "e. Delete the list ```my-list-ten``` created in the above step."
      ],
      "metadata": {
        "id": "tJlIQIYjBPLX"
      }
    },
    {
      "cell_type": "code",
      "source": [
        "del my_list_ten"
      ],
      "metadata": {
        "id": "fQr5X9N0RceU"
      },
      "execution_count": null,
      "outputs": []
    },
    {
      "cell_type": "markdown",
      "source": [
        "f. Create a new list ```my-new-list``` of the same 10 items used in ```my-list-ten```. Generate memory addresses of the items in ```my-new-list``` and compare them with the memory addresses in ```my-list-ten-mem```. Discuss what do you observe."
      ],
      "metadata": {
        "id": "jflVX2GHBT3-"
      }
    },
    {
      "cell_type": "code",
      "source": [
        "my_new_list=[3,1,4,1,5,9,2,6,5,3]\n",
        "my_new_list_mem=[]\n",
        "for i in my_new_list:\n",
        "  my_new_list_mem.append(id(i))\n",
        "print(my_list_ten_mem)\n",
        "print(my_new_list_mem)"
      ],
      "metadata": {
        "id": "QacofGe4RdZX",
        "colab": {
          "base_uri": "https://localhost:8080/"
        },
        "outputId": "c70d0b7f-d598-4bbd-8936-c4f0f0a905a0"
      },
      "execution_count": null,
      "outputs": [
        {
          "output_type": "stream",
          "name": "stdout",
          "text": [
            "[10750920, 10750856, 10750952, 10750856, 10750984, 10751112, 10750888, 10751016, 10750984, 10750920]\n",
            "[10750920, 10750856, 10750952, 10750856, 10750984, 10751112, 10750888, 10751016, 10750984, 10750920]\n"
          ]
        }
      ]
    },
    {
      "cell_type": "markdown",
      "source": [
        "The memory addresses are the same."
      ],
      "metadata": {
        "id": "4IkEmUx3QjM-"
      }
    },
    {
      "cell_type": "markdown",
      "source": [
        "g. Suppose that you have the following list: ```x = [[1, 2, 3], [4, 5, 6], [7, 8, 9]]```. What code could you use to get a copy ```y``` of that list in which you could change the elements without the side effect of changing the contents of ```x```?"
      ],
      "metadata": {
        "id": "BRZq7VPZBYsN"
      }
    },
    {
      "cell_type": "code",
      "source": [
        "import copy\n",
        "x = [[1, 2, 3], [4, 5, 6], [7, 8, 9]]\n",
        "y=copy.deepcopy(x)\n",
        "print(x,y)\n",
        "x[0][0]=0\n",
        "print(x,y)"
      ],
      "metadata": {
        "id": "5M7ksW8xsC3k",
        "colab": {
          "base_uri": "https://localhost:8080/"
        },
        "outputId": "65dbca41-4c88-41e4-ce2c-846fd7b9e919"
      },
      "execution_count": null,
      "outputs": [
        {
          "output_type": "stream",
          "name": "stdout",
          "text": [
            "[[1, 2, 3], [4, 5, 6], [7, 8, 9]] [[1, 2, 3], [4, 5, 6], [7, 8, 9]]\n",
            "[[0, 2, 3], [4, 5, 6], [7, 8, 9]] [[1, 2, 3], [4, 5, 6], [7, 8, 9]]\n"
          ]
        }
      ]
    },
    {
      "cell_type": "markdown",
      "source": [
        "h. Is it possible to use multiple expressions within a list comprehension?"
      ],
      "metadata": {
        "id": "LUIwtfcJBnsq"
      }
    },
    {
      "cell_type": "code",
      "source": [
        "True"
      ],
      "metadata": {
        "id": "7xxHmgPKBoSc",
        "colab": {
          "base_uri": "https://localhost:8080/"
        },
        "outputId": "a5fc1a3e-c28f-4bc5-c4b0-d00e1a361e79"
      },
      "execution_count": null,
      "outputs": [
        {
          "output_type": "execute_result",
          "data": {
            "text/plain": [
              "True"
            ]
          },
          "metadata": {},
          "execution_count": 8
        }
      ]
    },
    {
      "cell_type": "markdown",
      "source": [
        "i. Using a list comprehension, count how many spaces are in the following statement.\n",
        "\"To be, or not to be, this is the question\""
      ],
      "metadata": {
        "id": "dV-_5n78BxH4"
      }
    },
    {
      "cell_type": "code",
      "source": [
        "n=0\n",
        "sentence=\"To be, or not to be, this is the question\"\n",
        "for i in sentence:\n",
        "  if i==\" \":\n",
        "    n+=1\n",
        "print(n)"
      ],
      "metadata": {
        "id": "1C6WRbQ1I_up",
        "colab": {
          "base_uri": "https://localhost:8080/"
        },
        "outputId": "ab9ff09f-af63-49f9-d3a5-10209c73025d"
      },
      "execution_count": null,
      "outputs": [
        {
          "output_type": "stream",
          "name": "stdout",
          "text": [
            "9\n"
          ]
        }
      ]
    },
    {
      "cell_type": "markdown",
      "source": [
        "j. Choose any 5 lists operations of your choice from the link https://docs.python.org/3/tutorial/datastructures.html\n"
      ],
      "metadata": {
        "id": "QJQ3mnTyIz7c"
      }
    },
    {
      "cell_type": "code",
      "source": [
        "list=[]\n",
        "list.append(1)\n",
        "list.extend([2,3])\n",
        "list.insert(3,4)\n",
        "list.remove(2)\n",
        "list.pop(1)\n",
        "print(list)"
      ],
      "metadata": {
        "id": "7JcT_W26B0Nu",
        "colab": {
          "base_uri": "https://localhost:8080/"
        },
        "outputId": "b6617bd3-c5f5-4e64-9349-2c1b884a52db"
      },
      "execution_count": null,
      "outputs": [
        {
          "output_type": "stream",
          "name": "stdout",
          "text": [
            "[1, 4]\n"
          ]
        }
      ]
    },
    {
      "cell_type": "markdown",
      "source": [
        "## Challenges\n",
        "\n",
        "Please describe the challenges you faced during the exercise."
      ],
      "metadata": {
        "id": "xQzjxKdvvbyo"
      }
    },
    {
      "cell_type": "markdown",
      "source": [
        "I thought it was challanging to make changes to the original list while not changing the duplicate list."
      ],
      "metadata": {
        "id": "qfJNpTB5EbY4"
      }
    }
  ]
}
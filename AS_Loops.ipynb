{
  "nbformat": 4,
  "nbformat_minor": 0,
  "metadata": {
    "colab": {
      "provenance": []
    },
    "kernelspec": {
      "name": "python3",
      "display_name": "Python 3"
    },
    "language_info": {
      "name": "python"
    }
  },
  "cells": [
    {
      "cell_type": "markdown",
      "source": [
        "# Loops in Python\n",
        "\n",
        "A sequence of instructions that repeats until a certain condition is met\n",
        "\n",
        "## Objective\n",
        "Understand how loops are applied\n",
        "\n",
        "## Prerequisite\n",
        "\n",
        "- Decision statements\n",
        "- Input functions\n",
        "- Python literals\n",
        "- Programming variables\n",
        "\n",
        "## What do you need to complete this exercise?\n",
        "\n",
        "You can perform this exercise in any Python IDE, including JupyterLab or Google Colab.\n"
      ],
      "metadata": {
        "id": "2ITy4ycVFXBq"
      }
    },
    {
      "cell_type": "markdown",
      "source": [
        "### While loop\n",
        "\n",
        "a. Please write Python code using a while loop to perform the following steps.\n",
        "\n",
        "1. Take any non-negative and non-zero integer number and name it ```n0```\n",
        "2. if the number is even, evaluate a new ```n0``` as ```n0 ÷ 2```;\n",
        "3. Otherwise, if the number is odd, evaluate a new ```n0``` as ```3 * n0 + 1```;\n",
        "4. if ```n0``` is not equal to 1, go to point 2.\n",
        "\n",
        "#### Sample input: ```16```\n",
        "\n",
        "#### Expected output: ###\n",
        "\n",
        "```\n",
        "8\n",
        "4\n",
        "2\n",
        "1\n",
        "steps = 4\n",
        "```"
      ],
      "metadata": {
        "id": "uQxH0KO0tsDc"
      }
    },
    {
      "cell_type": "code",
      "source": [
        "n0=int(input(\"Enter non-zero integer:\"))\n",
        "steps=0\n",
        "while n0!=1:\n",
        "  if n0%2==0:\n",
        "    n0=n0//2\n",
        "  else:\n",
        "    n0=3*n0+1\n",
        "  print(n0)\n",
        "  steps=steps+1\n",
        "print(f\"steps = {steps}\")\n"
      ],
      "metadata": {
        "id": "5M7ksW8xsC3k",
        "outputId": "526c25cd-2946-4d36-c906-c919b49f1131",
        "colab": {
          "base_uri": "https://localhost:8080/"
        }
      },
      "execution_count": null,
      "outputs": [
        {
          "output_type": "stream",
          "name": "stdout",
          "text": [
            "Enter non-zero integer:20\n",
            "10\n",
            "5\n",
            "16\n",
            "8\n",
            "4\n",
            "2\n",
            "1\n",
            "steps = 7\n"
          ]
        }
      ]
    },
    {
      "cell_type": "markdown",
      "source": [
        "b. Write code that uses a while loop and runs indefinitely. Modify the same code to resolve the infinite loop issue."
      ],
      "metadata": {
        "id": "S3X6hdy5sI-s"
      }
    },
    {
      "cell_type": "code",
      "source": [
        "n=0\n",
        "while n<100:\n",
        "  print(\"hello world\")\n",
        "  n+=1"
      ],
      "metadata": {
        "id": "cs0pk1_qsNY0",
        "colab": {
          "base_uri": "https://localhost:8080/"
        },
        "outputId": "57a5d3f2-37a9-4693-85f4-d780e4f99150"
      },
      "execution_count": null,
      "outputs": [
        {
          "output_type": "stream",
          "name": "stdout",
          "text": [
            "hello world\n",
            "hello world\n",
            "hello world\n",
            "hello world\n",
            "hello world\n",
            "hello world\n",
            "hello world\n",
            "hello world\n",
            "hello world\n",
            "hello world\n",
            "hello world\n",
            "hello world\n",
            "hello world\n",
            "hello world\n",
            "hello world\n",
            "hello world\n",
            "hello world\n",
            "hello world\n",
            "hello world\n",
            "hello world\n",
            "hello world\n",
            "hello world\n",
            "hello world\n",
            "hello world\n",
            "hello world\n",
            "hello world\n",
            "hello world\n",
            "hello world\n",
            "hello world\n",
            "hello world\n",
            "hello world\n",
            "hello world\n",
            "hello world\n",
            "hello world\n",
            "hello world\n",
            "hello world\n",
            "hello world\n",
            "hello world\n",
            "hello world\n",
            "hello world\n",
            "hello world\n",
            "hello world\n",
            "hello world\n",
            "hello world\n",
            "hello world\n",
            "hello world\n",
            "hello world\n",
            "hello world\n",
            "hello world\n",
            "hello world\n",
            "hello world\n",
            "hello world\n",
            "hello world\n",
            "hello world\n",
            "hello world\n",
            "hello world\n",
            "hello world\n",
            "hello world\n",
            "hello world\n",
            "hello world\n",
            "hello world\n",
            "hello world\n",
            "hello world\n",
            "hello world\n",
            "hello world\n",
            "hello world\n",
            "hello world\n",
            "hello world\n",
            "hello world\n",
            "hello world\n",
            "hello world\n",
            "hello world\n",
            "hello world\n",
            "hello world\n",
            "hello world\n",
            "hello world\n",
            "hello world\n",
            "hello world\n",
            "hello world\n",
            "hello world\n",
            "hello world\n",
            "hello world\n",
            "hello world\n",
            "hello world\n",
            "hello world\n",
            "hello world\n",
            "hello world\n",
            "hello world\n",
            "hello world\n",
            "hello world\n",
            "hello world\n",
            "hello world\n",
            "hello world\n",
            "hello world\n",
            "hello world\n",
            "hello world\n",
            "hello world\n",
            "hello world\n",
            "hello world\n",
            "hello world\n"
          ]
        }
      ]
    },
    {
      "cell_type": "markdown",
      "source": [
        "c. Write a program that takes two integers as input and asks the user to choose an arithmetic operation to perform with those numbers. At the end of the program, prompt the user with the question, \"Do you want to continue?\" If the user selects \"Y\" or \"y,\" the program should restart; otherwise, it should exit and display the message, \"Have a good day.\""
      ],
      "metadata": {
        "id": "oxXvMBKNsX8M"
      }
    },
    {
      "cell_type": "code",
      "source": [
        "restart=\"y\"\n",
        "while restart==\"Y\" or restart==\"y\":\n",
        "  a=int(input(\"Enter first integer: \"))\n",
        "  b=int(input(\"Enter second integer: \"))\n",
        "  op=input(\"select operation: \")\n",
        "  if op==\"+\":\n",
        "    print(a+b)\n",
        "  if op==\"-\":\n",
        "    print(a-b)\n",
        "  if op==\"*\":\n",
        "    print(a*b)\n",
        "  if op==\"/\":\n",
        "    print(a/b)\n",
        "  restart=input(\"Do you want to continue? \")\n",
        "print(\"Have a good day.\")"
      ],
      "metadata": {
        "id": "w9Ai1I_JsYw9",
        "colab": {
          "base_uri": "https://localhost:8080/"
        },
        "outputId": "d8d6d311-d6df-4a5b-8736-c1bf8b1e8a33"
      },
      "execution_count": null,
      "outputs": [
        {
          "output_type": "stream",
          "name": "stdout",
          "text": [
            "Enter first integer: 1\n",
            "Enter second integer: 2\n",
            "select operation: +\n",
            "3\n",
            "Do you want to continue? Y\n",
            "Enter first integer: 3\n",
            "Enter second integer: 2\n",
            "select operation: -\n",
            "1\n",
            "Do you want to continue? y\n",
            "Enter first integer: 4\n",
            "Enter second integer: 3\n",
            "select operation: *\n",
            "12\n",
            "Do you want to continue? n\n",
            "Have a good day.\n"
          ]
        }
      ]
    },
    {
      "cell_type": "markdown",
      "source": [
        "### 2. For loops\n",
        "\n",
        "a. Write a code that counts the total number of characters in a text and also counts each character individually. For example, consider the sentence \"To be, or not to be, that is the question.\" The code should determine the total number of letters and how many times each letter appears, including specific counts for the letters 't' and 'o', etc. Ignore the upper and lower cases letters, and any punctuations symbols. Use only for loop, while loop, break and continue statements where necessary.\n",
        "\n",
        "#### Sample input: ```To be, or not to be, that is the question```\n",
        "\n",
        "#### Expected output: ###\n",
        "\n",
        "```\n",
        "Total number of alphabets: 30\n",
        "Total number of distinct alphabets are:\n",
        "T = 7\n",
        "o = 4\n",
        "```\n",
        "> **Note:** The expected output above is incomplete.\n"
      ],
      "metadata": {
        "id": "IeiOBf1Tse1c"
      }
    },
    {
      "cell_type": "code",
      "source": [
        "sentence=\"The quick brown fox jumps over the lazy dog\"\n",
        "alphacount=0\n",
        "alpha=\"abcdefghijklmnopqrstuvwxyz\"\n",
        "for char in sentence:\n",
        "  if char.isalpha():\n",
        "    alphacount+=1\n",
        "print(f\"Total number of alphabets: {alphacount}\")\n",
        "print(\"Total number of distinct alphabets are:\")\n",
        "for letter in alpha:\n",
        "  n=0\n",
        "  for char in sentence:\n",
        "    if char.lower()==letter:\n",
        "      n+=1\n",
        "  if n>0:\n",
        "    print(f\"{letter} = {n}\")\n",
        "\n"
      ],
      "metadata": {
        "id": "FprfxHfksh2-",
        "colab": {
          "base_uri": "https://localhost:8080/"
        },
        "outputId": "74573c4f-7071-453e-b332-4a0aa111a6ba"
      },
      "execution_count": null,
      "outputs": [
        {
          "output_type": "stream",
          "name": "stdout",
          "text": [
            "Total number of alphabets: 35\n",
            "Total number of distinct alphabets are:\n",
            "a = 1\n",
            "b = 1\n",
            "c = 1\n",
            "d = 1\n",
            "e = 3\n",
            "f = 1\n",
            "g = 1\n",
            "h = 2\n",
            "i = 1\n",
            "j = 1\n",
            "k = 1\n",
            "l = 1\n",
            "m = 1\n",
            "n = 1\n",
            "o = 4\n",
            "p = 1\n",
            "q = 1\n",
            "r = 2\n",
            "s = 1\n",
            "t = 2\n",
            "u = 2\n",
            "v = 1\n",
            "w = 1\n",
            "x = 1\n",
            "y = 1\n",
            "z = 1\n"
          ]
        }
      ]
    },
    {
      "cell_type": "markdown",
      "source": [
        "## Challenges\n",
        "\n",
        "Please describe the challenges you faced during the exercise."
      ],
      "metadata": {
        "id": "xQzjxKdvvbyo"
      }
    },
    {
      "cell_type": "markdown",
      "source": [
        "It was the first time I used the function ```isalpha``` to check if character is alphabet."
      ],
      "metadata": {
        "id": "qfJNpTB5EbY4"
      }
    }
  ]
}
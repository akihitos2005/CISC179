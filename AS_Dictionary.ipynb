{
  "nbformat": 4,
  "nbformat_minor": 0,
  "metadata": {
    "colab": {
      "provenance": [],
      "include_colab_link": true
    },
    "kernelspec": {
      "name": "python3",
      "display_name": "Python 3"
    },
    "language_info": {
      "name": "python"
    }
  },
  "cells": [
    {
      "cell_type": "markdown",
      "metadata": {
        "id": "view-in-github",
        "colab_type": "text"
      },
      "source": [
        "<a href=\"https://colab.research.google.com/github/akihitos2005/CISC179/blob/main/AS_Dictionary.ipynb\" target=\"_parent\"><img src=\"https://colab.research.google.com/assets/colab-badge.svg\" alt=\"Open In Colab\"/></a>"
      ]
    },
    {
      "cell_type": "markdown",
      "source": [
        "# Dictionary in Python\n",
        "In Python, a dictionary is a built-in data structure that stores data in key-value pairs. It is an unordered, mutable (changeable) collection, where each key must be unique and immutable (e.g., string, number, or tuple), while the value can be of any data type.\n",
        "\n",
        "## Objective\n",
        "- Understand how to create dictionary in Python\n",
        "- Apply various methods on a dictionary\n",
        "- Troubleshoot dictionary\n",
        "\n",
        "## Prerequisite\n",
        "\n",
        "- Lists & tuples\n",
        "- Decision and loops\n",
        "- Input functions\n",
        "\n",
        "\n",
        "## What do you need to complete this exercise?\n",
        "\n",
        "You can perform this exercise in any Python IDE, including JupyterLab or Google Colab.\n"
      ],
      "metadata": {
        "id": "2ITy4ycVFXBq"
      }
    },
    {
      "cell_type": "markdown",
      "source": [
        "# 1. Creating and accessing dictionary\n",
        "\n",
        "1a) Create dictionary of your choice of keys and values. Create dictionary size of 10 elements."
      ],
      "metadata": {
        "id": "uQxH0KO0tsDc"
      }
    },
    {
      "cell_type": "code",
      "source": [
        "num2word={0:\"zero\",1:\"one\",2:\"two\",3:\"three\",4:\"four\",5:\"five\",6:\"six\",7:\"seven\",8:\"eight\",9:\"nine\"}"
      ],
      "metadata": {
        "id": "rRTflD1C9mjt"
      },
      "execution_count": null,
      "outputs": []
    },
    {
      "cell_type": "markdown",
      "source": [
        "1b. Take inputs from a user and add them in a dictionary called ```my_user_dict```\n",
        "\n",
        "Here is the example of an user input:\n",
        "\n",
        "SSN: 111-222-3333\n",
        "\n",
        "Name: Steve Hawkins\n",
        "\n",
        "The code continue to take user input and provide an option at the end of the user input; \"Do you want to continue (Y/N)\"\n",
        "\n",
        "Identify how many keys you need to create a dictionary.\n",
        "\n",
        "__Restrictions: Do not use functions and/or exceptions in this exercise__"
      ],
      "metadata": {
        "id": "0jkTuRdlA6sk"
      }
    },
    {
      "cell_type": "code",
      "source": [
        "my_user_dict={\n",
        "    \"SSN\": \"111-222-3333\",\n",
        "    \"Name\": \"Steve Hawkins\"\n",
        "}\n",
        "print(len(my_user_dict))"
      ],
      "metadata": {
        "id": "8ZIVOfAMQt2Z",
        "outputId": "3a59e6ca-0d3d-407a-9389-9492e040fb97",
        "colab": {
          "base_uri": "https://localhost:8080/"
        }
      },
      "execution_count": 3,
      "outputs": [
        {
          "output_type": "stream",
          "name": "stdout",
          "text": [
            "2\n"
          ]
        }
      ]
    },
    {
      "cell_type": "code",
      "source": [
        "# List of tuples where each tuple represents a key-value pair\n",
        "\n",
        "a = [(\"a\", 1), (\"b\", 2), (\"c\", 3)]\n",
        "\n",
        "# Convert the list of tuples into a dictionary\n",
        "\n",
        "res = dict(a)\n",
        "\n",
        "print(res)"
      ],
      "metadata": {
        "id": "cF0UyMIqQ8V3",
        "colab": {
          "base_uri": "https://localhost:8080/"
        },
        "outputId": "18bb3632-1eb7-4ca3-8a1e-1833028e49e2"
      },
      "execution_count": null,
      "outputs": [
        {
          "output_type": "stream",
          "name": "stdout",
          "text": [
            "{'a': 1, 'b': 2, 'c': 3}\n"
          ]
        }
      ]
    },
    {
      "cell_type": "markdown",
      "source": [
        "1c. Based on the given tuple, create a code which checks for valid key & value pairs, and check for key duplication.\n",
        "\n",
        "The code should provide assistance to a user to correct the error. For key duplication, ask user to change the key\n",
        "\n",
        "__Restrictions: Do not use functions and/or exceptions in this exercise__"
      ],
      "metadata": {
        "id": "J6CAWQq0HBv6"
      }
    },
    {
      "cell_type": "code",
      "source": [
        "my_list = [(\"Name\", \"Sarah Connor\"), (\"Date of birth\", \"1 Jan 1980\"), (\"Address\",\"1000 Black Mountain Drive\",92126),(\"Name\", \"Jim Hawkins\")]\n",
        "for i in range(1,len(my_list)):\n",
        "  for j in range(i):\n",
        "    if my_list[i][0]==my_list[j][0]:\n",
        "      print(\"There is the key duplication\")\n",
        "      my_list[i]=(input(\"change the key: \"),input(\"change the value: \"))\n",
        "print(my_list)"
      ],
      "metadata": {
        "id": "zhseVMcKL-89",
        "colab": {
          "base_uri": "https://localhost:8080/"
        },
        "outputId": "28d26d83-cdb3-4b4a-d952-18b4c0ec04d7"
      },
      "execution_count": 58,
      "outputs": [
        {
          "output_type": "stream",
          "name": "stdout",
          "text": [
            "There is the key duplication\n",
            "change the key: gender\n",
            "change the value: male\n",
            "[('Name', 'Sarah Connor'), ('Date of birth', '1 Jan 1980'), ('Address', '1000 Black Mountain Drive', 92126), ('gender', 'male')]\n"
          ]
        }
      ]
    },
    {
      "cell_type": "markdown",
      "source": [
        "1d. Convert the following list into a dictionary. Automate the process by using the loop.\n",
        "\n",
        "__Restrictions: Do not use functions and/or exceptions in this exercise__"
      ],
      "metadata": {
        "id": "h7Jc8xH-JEmh"
      }
    },
    {
      "cell_type": "code",
      "source": [
        "my_list = [10012,\"Mango\",43221,\"Gala apple\",14321,\"Banana\",10011,\"Watermelon\"]\n",
        "my_dict={my_list[i]:my_list[i+1] for i in range(0,len(my_list),2)}\n",
        "print(my_dict)"
      ],
      "metadata": {
        "id": "Nfv-ATQUKlW2",
        "colab": {
          "base_uri": "https://localhost:8080/"
        },
        "outputId": "2eab6ffb-d382-4ba6-f251-30b87e306b86"
      },
      "execution_count": null,
      "outputs": [
        {
          "output_type": "stream",
          "name": "stdout",
          "text": [
            "{10012: 'Mango', 43221: 'Gala apple', 14321: 'Banana', 10011: 'Watermelon'}\n"
          ]
        }
      ]
    },
    {
      "cell_type": "markdown",
      "source": [
        "1e. Use the following text and count the number of words using dictionary. Remember The or the counts as 2.\n",
        "\n",
        "**The tiger (Panthera tigris) is a large cat and a member of the genus Panthera native to Asia. It has a powerful, muscular body with a large head and paws, a long tail and orange fur with black, mostly vertical stripes. It is traditionally classified into nine recent subspecies, though some recognise only two subspecies, mainland Asian tigers and the island tigers of the Sunda Islands.**"
      ],
      "metadata": {
        "id": "lLeAeQwmSHWL"
      }
    },
    {
      "cell_type": "code",
      "source": [
        "text=\"The tiger (Panthera tigris) is a large cat and a member of the genus Panthera native to Asia. It has a powerful, muscular body with a large head and paws, a long tail and orange fur with black, mostly vertical stripes. It is traditionally classified into nine recent subspecies, though some recognise only two subspecies, mainland Asian tigers and the island tigers of the Sunda Islands.\"\n",
        "words={}\n",
        "start=0\n",
        "for i in range(len(text)):\n",
        "  if not text[i].isalpha():\n",
        "    word=text[start:i]\n",
        "    if word in words.keys():\n",
        "      words[word]+=1\n",
        "    else:\n",
        "      words[word]=1\n",
        "    start=i+1\n",
        "print(words)\n",
        "\n",
        "\n",
        "\n",
        "\n"
      ],
      "metadata": {
        "colab": {
          "base_uri": "https://localhost:8080/"
        },
        "id": "yLHCi_WRuYDg",
        "outputId": "c6fb3603-80e9-40a9-b4da-aa81b6bea46b"
      },
      "execution_count": 28,
      "outputs": [
        {
          "output_type": "stream",
          "name": "stdout",
          "text": [
            "{'The': 1, 'tiger': 1, '': 9, 'Panthera': 2, 'tigris': 1, 'is': 2, 'a': 5, 'large': 2, 'cat': 1, 'and': 4, 'member': 1, 'of': 2, 'the': 3, 'genus': 1, 'native': 1, 'to': 1, 'Asia': 1, 'It': 2, 'has': 1, 'powerful': 1, 'muscular': 1, 'body': 1, 'with': 2, 'head': 1, 'paws': 1, 'long': 1, 'tail': 1, 'orange': 1, 'fur': 1, 'black': 1, 'mostly': 1, 'vertical': 1, 'stripes': 1, 'traditionally': 1, 'classified': 1, 'into': 1, 'nine': 1, 'recent': 1, 'subspecies': 2, 'though': 1, 'some': 1, 'recognise': 1, 'only': 1, 'two': 1, 'mainland': 1, 'Asian': 1, 'tigers': 2, 'island': 1, 'Sunda': 1, 'Islands': 1}\n"
          ]
        }
      ]
    },
    {
      "cell_type": "markdown",
      "source": [
        "# 2. Troubleshooting"
      ],
      "metadata": {
        "id": "tJlIQIYjBPLX"
      }
    },
    {
      "cell_type": "code",
      "source": [
        "d_orig = {123:\"Coconut\"}\n",
        "d_copy = d_orig\n",
        "print(d_orig)\n",
        "print(d_copy)"
      ],
      "metadata": {
        "id": "70JnWsa6zE0M",
        "colab": {
          "base_uri": "https://localhost:8080/"
        },
        "outputId": "6293efde-4067-4ef0-a13c-2855d4258555"
      },
      "execution_count": 35,
      "outputs": [
        {
          "output_type": "stream",
          "name": "stdout",
          "text": [
            "{123: 'Coconut'}\n",
            "{123: 'Coconut'}\n"
          ]
        }
      ]
    },
    {
      "cell_type": "markdown",
      "source": [
        "2a. Change the content of ```d_copy``` and make sure the content does not affect the ```d_orig``` dictionary. Verify using the code."
      ],
      "metadata": {
        "id": "eF1Xhaw4M1CG"
      }
    },
    {
      "cell_type": "code",
      "source": [
        "d_copy[123]=\"Mango\"\n",
        "print(d_orig)\n",
        "print(d_copy)"
      ],
      "metadata": {
        "id": "w93b1OeVNYuf",
        "colab": {
          "base_uri": "https://localhost:8080/"
        },
        "outputId": "015d9df2-9252-4d9d-9a3d-804ee13b4b98"
      },
      "execution_count": 33,
      "outputs": [
        {
          "output_type": "stream",
          "name": "stdout",
          "text": [
            "{123: 'Mango'}\n",
            "{123: 'Mango'}\n"
          ]
        }
      ]
    },
    {
      "cell_type": "markdown",
      "source": [
        "2b. If it changes the content of the original dictionary, then propose how can you solve this problem."
      ],
      "metadata": {
        "id": "O0-uz6MdzJ4a"
      }
    },
    {
      "cell_type": "code",
      "source": [
        "d_copy=d_orig.copy()\n",
        "d_copy[123]=\"Mango\"\n",
        "print(d_orig)\n",
        "print(d_copy)"
      ],
      "metadata": {
        "id": "xyS0VVapNvEv",
        "colab": {
          "base_uri": "https://localhost:8080/"
        },
        "outputId": "d6835299-c50e-4681-c251-4ba7c1e1a00b"
      },
      "execution_count": 36,
      "outputs": [
        {
          "output_type": "stream",
          "name": "stdout",
          "text": [
            "{123: 'Coconut'}\n",
            "{123: 'Mango'}\n"
          ]
        }
      ]
    },
    {
      "cell_type": "markdown",
      "source": [
        "2c. Write a code that generates the following error and explain why there is such an error.\n",
        "```\n",
        "TypeError: unhashable type: 'list'\n",
        "```"
      ],
      "metadata": {
        "id": "6vXaWJBczn5u"
      }
    },
    {
      "cell_type": "code",
      "source": [
        "print(hash(d_orig))#"
      ],
      "metadata": {
        "id": "dUoHv95LOCYr",
        "colab": {
          "base_uri": "https://localhost:8080/",
          "height": 141
        },
        "outputId": "715dddd9-78bf-4808-dd0d-c819218636e1"
      },
      "execution_count": 37,
      "outputs": [
        {
          "output_type": "error",
          "ename": "TypeError",
          "evalue": "unhashable type: 'dict'",
          "traceback": [
            "\u001b[0;31m---------------------------------------------------------------------------\u001b[0m",
            "\u001b[0;31mTypeError\u001b[0m                                 Traceback (most recent call last)",
            "\u001b[0;32m<ipython-input-37-de49363bd08e>\u001b[0m in \u001b[0;36m<cell line: 0>\u001b[0;34m()\u001b[0m\n\u001b[0;32m----> 1\u001b[0;31m \u001b[0mprint\u001b[0m\u001b[0;34m(\u001b[0m\u001b[0mhash\u001b[0m\u001b[0;34m(\u001b[0m\u001b[0md_orig\u001b[0m\u001b[0;34m)\u001b[0m\u001b[0;34m)\u001b[0m\u001b[0;34m\u001b[0m\u001b[0;34m\u001b[0m\u001b[0m\n\u001b[0m",
            "\u001b[0;31mTypeError\u001b[0m: unhashable type: 'dict'"
          ]
        }
      ]
    },
    {
      "cell_type": "markdown",
      "source": [
        "It throws the error, because dictionary is unhashable type."
      ],
      "metadata": {
        "id": "7hz_J56JpHFv"
      }
    },
    {
      "cell_type": "markdown",
      "source": [
        "## Challenges\n",
        "\n",
        "Please describe the challenges you faced during the exercise."
      ],
      "metadata": {
        "id": "xQzjxKdvvbyo"
      }
    },
    {
      "cell_type": "markdown",
      "source": [
        "I don't know if I did assignment 1c correctly I am not sure what the code is suppose to do before checking keys and values. Should it prompt the user?"
      ],
      "metadata": {
        "id": "qfJNpTB5EbY4"
      }
    }
  ]
}
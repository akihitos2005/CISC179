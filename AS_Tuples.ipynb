{
  "nbformat": 4,
  "nbformat_minor": 0,
  "metadata": {
    "colab": {
      "provenance": [],
      "include_colab_link": true
    },
    "kernelspec": {
      "name": "python3",
      "display_name": "Python 3"
    },
    "language_info": {
      "name": "python"
    }
  },
  "cells": [
    {
      "cell_type": "markdown",
      "metadata": {
        "id": "view-in-github",
        "colab_type": "text"
      },
      "source": [
        "<a href=\"https://colab.research.google.com/github/akihitos2005/CISC179/blob/main/AS_Tuples.ipynb\" target=\"_parent\"><img src=\"https://colab.research.google.com/assets/colab-badge.svg\" alt=\"Open In Colab\"/></a>"
      ]
    },
    {
      "cell_type": "markdown",
      "source": [
        "# Tuples in Python\n",
        "A tuple in Python is an ordered, immutable sequence of elements. Tuples are defined using parentheses and can contain elements of different data types, including other tuples. Once a tuple is created, its elements cannot be modified, added, or removed. This immutability makes tuples suitable for representing fixed collections of data.\n",
        "\n",
        "## Objective\n",
        "- Comprehend the application of tuples\n",
        "- Understand how a tuple uses a memory\n",
        "- Apply various operations on tuples\n",
        "\n",
        "## Prerequisite\n",
        "\n",
        "- Lists\n",
        "- Decision and loops\n",
        "- Input functions\n",
        "- Python literals\n",
        "- Programming variables\n",
        "\n",
        "\n",
        "## What do you need to complete this exercise?\n",
        "\n",
        "You can perform this exercise in any Python IDE, including JupyterLab or Google Colab.\n"
      ],
      "metadata": {
        "id": "2ITy4ycVFXBq"
      }
    },
    {
      "cell_type": "markdown",
      "source": [
        "# 1. Exercising tuples\n",
        "\n",
        "1a) Take five inputs from an user and save it in a tuple called ```my_tuple```"
      ],
      "metadata": {
        "id": "uQxH0KO0tsDc"
      }
    },
    {
      "cell_type": "code",
      "source": [
        "my_tuple=(\"a\",\"e\",\"i\",\"o\",\"u\")"
      ],
      "metadata": {
        "id": "rRTflD1C9mjt"
      },
      "execution_count": null,
      "outputs": []
    },
    {
      "cell_type": "markdown",
      "source": [
        "1b. How do you assign a single element in a tuple?"
      ],
      "metadata": {
        "id": "0jkTuRdlA6sk"
      }
    },
    {
      "cell_type": "code",
      "source": [
        "one_element_tuple=(\"a\",)"
      ],
      "metadata": {
        "id": "8ZIVOfAMQt2Z"
      },
      "execution_count": null,
      "outputs": []
    },
    {
      "cell_type": "markdown",
      "source": [
        "1c. ```my_tuple = (1,2,3,4,3,2,1,2,3,5,4,3,2,1)```\n",
        "Count the repeated integers and print the result on the console."
      ],
      "metadata": {
        "id": "Wv1LOaouA_Gq"
      }
    },
    {
      "cell_type": "code",
      "source": [
        "my_tuple=(1,2,3,4,3,2,1,2,3,5,4,3,2,1)\n",
        "for x in range(1,6):\n",
        "  n=0\n",
        "  for i in my_tuple:\n",
        "    if i==x:\n",
        "      n+=1\n",
        "  if n==1:\n",
        "    print(f\"1 {x}\")\n",
        "  if n>1:\n",
        "    print(f\"{n} {x}s\")"
      ],
      "metadata": {
        "id": "cF0UyMIqQ8V3",
        "outputId": "6d5c1084-2091-4703-be26-05fff87594f0",
        "colab": {
          "base_uri": "https://localhost:8080/"
        }
      },
      "execution_count": null,
      "outputs": [
        {
          "output_type": "stream",
          "name": "stdout",
          "text": [
            "3 1s\n",
            "4 2s\n",
            "4 3s\n",
            "2 4s\n",
            "1 5\n"
          ]
        }
      ]
    },
    {
      "cell_type": "markdown",
      "source": [
        "1d. ```my_tuple = my_tuple + my_tuple```\n",
        "\n",
        "\n",
        "Proof that ```my_tuple``` in part c is different than the ```my_tuple``` in part d.\n"
      ],
      "metadata": {
        "id": "0IWZsl7LBGvD"
      }
    },
    {
      "cell_type": "code",
      "source": [
        "my_tuple=my_tuple+my_tuple\n",
        "print(my_tuple)"
      ],
      "metadata": {
        "id": "S5kO371-Q_NL",
        "outputId": "6fb3a535-4817-4a03-d176-6c91ed115cf4",
        "colab": {
          "base_uri": "https://localhost:8080/"
        }
      },
      "execution_count": null,
      "outputs": [
        {
          "output_type": "stream",
          "name": "stdout",
          "text": [
            "(1, 2, 3, 4, 3, 2, 1, 2, 3, 5, 4, 3, 2, 1, 1, 2, 3, 4, 3, 2, 1, 2, 3, 5, 4, 3, 2, 1)\n"
          ]
        }
      ]
    },
    {
      "cell_type": "markdown",
      "source": [
        "Tuple in part d is double the number of elements of part c."
      ],
      "metadata": {
        "id": "v4A3tAwer4DP"
      }
    },
    {
      "cell_type": "markdown",
      "source": [
        "1e. Explain why the following operations aren’t legal for\n",
        "the tuple. Answer without using the Python.\n",
        "```\n",
        "x = (1,2,3,4)\n",
        "x.append(1)\n",
        "x[1] = \"hello\"\n",
        "del x[2]\n",
        "```"
      ],
      "metadata": {
        "id": "gdub5W3O0isl"
      }
    },
    {
      "cell_type": "markdown",
      "source": [
        "Tuple elements are not changable nor appendable."
      ],
      "metadata": {
        "id": "sLoX5Dtt0_rX"
      }
    },
    {
      "cell_type": "markdown",
      "source": [
        "# 2. Packing and unpacking tuples"
      ],
      "metadata": {
        "id": "tJlIQIYjBPLX"
      }
    },
    {
      "cell_type": "markdown",
      "source": [
        "Python permits tuples to appear on the left side of an assignment operator, in which case variables in the tuple receive the corresponding values from the tuple on the right side of the assignment operator. Here’s a simple example:"
      ],
      "metadata": {
        "id": "QkNQDkq7zAOr"
      }
    },
    {
      "cell_type": "code",
      "source": [
        "(one, two, three, four) =  (1, 2, 3, 4)"
      ],
      "metadata": {
        "id": "70JnWsa6zE0M"
      },
      "execution_count": null,
      "outputs": []
    },
    {
      "cell_type": "markdown",
      "source": [
        "2a. What is the data type of each variable?"
      ],
      "metadata": {
        "id": "O0-uz6MdzJ4a"
      }
    },
    {
      "cell_type": "markdown",
      "source": [
        "Each data type is `int`"
      ],
      "metadata": {
        "id": "3lhZ_t4LBNVh"
      }
    },
    {
      "cell_type": "markdown",
      "source": [
        "2b. Python has an extended unpacking feature, allowing an element marked with * to absorb any number of elements not matching the other elements. For example,"
      ],
      "metadata": {
        "id": "6vXaWJBczn5u"
      }
    },
    {
      "cell_type": "code",
      "source": [
        "x = (1, 2, 3, 4)\n",
        "a, b, *c = x\n",
        "a, b, c"
      ],
      "metadata": {
        "colab": {
          "base_uri": "https://localhost:8080/"
        },
        "id": "Dkgby1wqzyx8",
        "outputId": "d759257d-5a49-4c5d-d22d-2b252a62c8ca"
      },
      "execution_count": null,
      "outputs": [
        {
          "output_type": "execute_result",
          "data": {
            "text/plain": [
              "(1, 2, [3, 4])"
            ]
          },
          "metadata": {},
          "execution_count": 2
        }
      ]
    },
    {
      "cell_type": "markdown",
      "source": [
        "2c. What will be the result of ```a, *b, c = x```?"
      ],
      "metadata": {
        "id": "l9xBGV0K0L6_"
      }
    },
    {
      "cell_type": "code",
      "source": [
        "(1,[2,3],4)"
      ],
      "metadata": {
        "id": "fQr5X9N0RceU",
        "outputId": "c9d4ac4c-87fc-4c8a-8b0b-e2799f6e6b12",
        "colab": {
          "base_uri": "https://localhost:8080/"
        }
      },
      "execution_count": null,
      "outputs": [
        {
          "output_type": "execute_result",
          "data": {
            "text/plain": [
              "(1, [2, 3], 4)"
            ]
          },
          "metadata": {},
          "execution_count": 7
        }
      ]
    },
    {
      "cell_type": "markdown",
      "source": [
        "# 3. Memory management\n",
        "\n",
        "```\n",
        "my_x = [100,200,300,400]\n",
        "my_y = (200,300,400,500)\n",
        "\n",
        "```\n",
        "Discuss how memory addresses are assigned to each index of the list and the tuple. Pay attention to new addresses & re-used addresses.\n",
        "\n",
        "| Index | my_x | my_y |\n",
        "|   -   |  -   |  -   |\n",
        "|   0   |   100  |  200   |\n",
        "|   1   |   200  |  300   |\n",
        "|   2   |   300  |  400   |\n",
        "|   3   |   400  |  500   |\n",
        "\n"
      ],
      "metadata": {
        "id": "QV96NnL82MPT"
      }
    },
    {
      "cell_type": "markdown",
      "source": [
        "The content for the same index will vary for different variables."
      ],
      "metadata": {
        "id": "H8yusAETB_2Z"
      }
    },
    {
      "cell_type": "markdown",
      "source": [
        "## Challenges\n",
        "\n",
        "Please describe the challenges you faced during the exercise."
      ],
      "metadata": {
        "id": "xQzjxKdvvbyo"
      }
    },
    {
      "cell_type": "markdown",
      "source": [
        "I should be aware that, unlike list, tuple cannot be appended nor changed."
      ],
      "metadata": {
        "id": "qfJNpTB5EbY4"
      }
    }
  ]
}